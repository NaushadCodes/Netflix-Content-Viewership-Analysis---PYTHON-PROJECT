{
 "cells": [
  {
   "cell_type": "markdown",
   "id": "aa8d357b",
   "metadata": {},
   "source": [
    "# Netflix Content-Viewership Dataset Analysis\n",
    "This notebook contains analysis of netflix_titles dataset downloaded from Kaggle.  \n",
    "We will:\n",
    "- Load the dataset\n",
    "- Explore its structure\n",
    "- Perform some analysis using NumPy and Pandas"
   ]
  },
  {
   "cell_type": "code",
   "execution_count": 1,
   "id": "12438c09",
   "metadata": {},
   "outputs": [],
   "source": [
    "import numpy as np\n",
    "import pandas as pd\n",
    "\n",
    "df = pd.read_csv(\"netflix_titles.csv\")\n",
    "pd.set_option('display.max_columns', None) # To display all columns"
   ]
  },
  {
   "cell_type": "markdown",
   "id": "2dea1358",
   "metadata": {},
   "source": [
    "# 1st Step - Exploring Dataset"
   ]
  },
  {
   "cell_type": "code",
   "execution_count": 2,
   "id": "71f788a7",
   "metadata": {},
   "outputs": [
    {
     "data": {
      "text/html": [
       "<div>\n",
       "<style scoped>\n",
       "    .dataframe tbody tr th:only-of-type {\n",
       "        vertical-align: middle;\n",
       "    }\n",
       "\n",
       "    .dataframe tbody tr th {\n",
       "        vertical-align: top;\n",
       "    }\n",
       "\n",
       "    .dataframe thead th {\n",
       "        text-align: right;\n",
       "    }\n",
       "</style>\n",
       "<table border=\"1\" class=\"dataframe\">\n",
       "  <thead>\n",
       "    <tr style=\"text-align: right;\">\n",
       "      <th></th>\n",
       "      <th>show_id</th>\n",
       "      <th>type</th>\n",
       "      <th>title</th>\n",
       "      <th>director</th>\n",
       "      <th>cast</th>\n",
       "      <th>country</th>\n",
       "      <th>date_added</th>\n",
       "      <th>release_year</th>\n",
       "      <th>rating</th>\n",
       "      <th>duration</th>\n",
       "      <th>listed_in</th>\n",
       "      <th>description</th>\n",
       "    </tr>\n",
       "  </thead>\n",
       "  <tbody>\n",
       "    <tr>\n",
       "      <th>0</th>\n",
       "      <td>s1</td>\n",
       "      <td>Movie</td>\n",
       "      <td>Dick Johnson Is Dead</td>\n",
       "      <td>Kirsten Johnson</td>\n",
       "      <td>NaN</td>\n",
       "      <td>United States</td>\n",
       "      <td>September 25, 2021</td>\n",
       "      <td>2020</td>\n",
       "      <td>PG-13</td>\n",
       "      <td>90 min</td>\n",
       "      <td>Documentaries</td>\n",
       "      <td>As her father nears the end of his life, filmm...</td>\n",
       "    </tr>\n",
       "    <tr>\n",
       "      <th>1</th>\n",
       "      <td>s2</td>\n",
       "      <td>TV Show</td>\n",
       "      <td>Blood &amp; Water</td>\n",
       "      <td>NaN</td>\n",
       "      <td>Ama Qamata, Khosi Ngema, Gail Mabalane, Thaban...</td>\n",
       "      <td>South Africa</td>\n",
       "      <td>September 24, 2021</td>\n",
       "      <td>2021</td>\n",
       "      <td>TV-MA</td>\n",
       "      <td>2 Seasons</td>\n",
       "      <td>International TV Shows, TV Dramas, TV Mysteries</td>\n",
       "      <td>After crossing paths at a party, a Cape Town t...</td>\n",
       "    </tr>\n",
       "    <tr>\n",
       "      <th>2</th>\n",
       "      <td>s3</td>\n",
       "      <td>TV Show</td>\n",
       "      <td>Ganglands</td>\n",
       "      <td>Julien Leclercq</td>\n",
       "      <td>Sami Bouajila, Tracy Gotoas, Samuel Jouy, Nabi...</td>\n",
       "      <td>NaN</td>\n",
       "      <td>September 24, 2021</td>\n",
       "      <td>2021</td>\n",
       "      <td>TV-MA</td>\n",
       "      <td>1 Season</td>\n",
       "      <td>Crime TV Shows, International TV Shows, TV Act...</td>\n",
       "      <td>To protect his family from a powerful drug lor...</td>\n",
       "    </tr>\n",
       "    <tr>\n",
       "      <th>3</th>\n",
       "      <td>s4</td>\n",
       "      <td>TV Show</td>\n",
       "      <td>Jailbirds New Orleans</td>\n",
       "      <td>NaN</td>\n",
       "      <td>NaN</td>\n",
       "      <td>NaN</td>\n",
       "      <td>September 24, 2021</td>\n",
       "      <td>2021</td>\n",
       "      <td>TV-MA</td>\n",
       "      <td>1 Season</td>\n",
       "      <td>Docuseries, Reality TV</td>\n",
       "      <td>Feuds, flirtations and toilet talk go down amo...</td>\n",
       "    </tr>\n",
       "    <tr>\n",
       "      <th>4</th>\n",
       "      <td>s5</td>\n",
       "      <td>TV Show</td>\n",
       "      <td>Kota Factory</td>\n",
       "      <td>NaN</td>\n",
       "      <td>Mayur More, Jitendra Kumar, Ranjan Raj, Alam K...</td>\n",
       "      <td>India</td>\n",
       "      <td>September 24, 2021</td>\n",
       "      <td>2021</td>\n",
       "      <td>TV-MA</td>\n",
       "      <td>2 Seasons</td>\n",
       "      <td>International TV Shows, Romantic TV Shows, TV ...</td>\n",
       "      <td>In a city of coaching centers known to train I...</td>\n",
       "    </tr>\n",
       "  </tbody>\n",
       "</table>\n",
       "</div>"
      ],
      "text/plain": [
       "  show_id     type                  title         director  \\\n",
       "0      s1    Movie   Dick Johnson Is Dead  Kirsten Johnson   \n",
       "1      s2  TV Show          Blood & Water              NaN   \n",
       "2      s3  TV Show              Ganglands  Julien Leclercq   \n",
       "3      s4  TV Show  Jailbirds New Orleans              NaN   \n",
       "4      s5  TV Show           Kota Factory              NaN   \n",
       "\n",
       "                                                cast        country  \\\n",
       "0                                                NaN  United States   \n",
       "1  Ama Qamata, Khosi Ngema, Gail Mabalane, Thaban...   South Africa   \n",
       "2  Sami Bouajila, Tracy Gotoas, Samuel Jouy, Nabi...            NaN   \n",
       "3                                                NaN            NaN   \n",
       "4  Mayur More, Jitendra Kumar, Ranjan Raj, Alam K...          India   \n",
       "\n",
       "           date_added  release_year rating   duration  \\\n",
       "0  September 25, 2021          2020  PG-13     90 min   \n",
       "1  September 24, 2021          2021  TV-MA  2 Seasons   \n",
       "2  September 24, 2021          2021  TV-MA   1 Season   \n",
       "3  September 24, 2021          2021  TV-MA   1 Season   \n",
       "4  September 24, 2021          2021  TV-MA  2 Seasons   \n",
       "\n",
       "                                           listed_in  \\\n",
       "0                                      Documentaries   \n",
       "1    International TV Shows, TV Dramas, TV Mysteries   \n",
       "2  Crime TV Shows, International TV Shows, TV Act...   \n",
       "3                             Docuseries, Reality TV   \n",
       "4  International TV Shows, Romantic TV Shows, TV ...   \n",
       "\n",
       "                                         description  \n",
       "0  As her father nears the end of his life, filmm...  \n",
       "1  After crossing paths at a party, a Cape Town t...  \n",
       "2  To protect his family from a powerful drug lor...  \n",
       "3  Feuds, flirtations and toilet talk go down amo...  \n",
       "4  In a city of coaching centers known to train I...  "
      ]
     },
     "execution_count": 2,
     "metadata": {},
     "output_type": "execute_result"
    }
   ],
   "source": [
    "df.head() #give the first five rows of dataset"
   ]
  },
  {
   "cell_type": "code",
   "execution_count": 3,
   "id": "c29223cc",
   "metadata": {},
   "outputs": [
    {
     "data": {
      "text/html": [
       "<div>\n",
       "<style scoped>\n",
       "    .dataframe tbody tr th:only-of-type {\n",
       "        vertical-align: middle;\n",
       "    }\n",
       "\n",
       "    .dataframe tbody tr th {\n",
       "        vertical-align: top;\n",
       "    }\n",
       "\n",
       "    .dataframe thead th {\n",
       "        text-align: right;\n",
       "    }\n",
       "</style>\n",
       "<table border=\"1\" class=\"dataframe\">\n",
       "  <thead>\n",
       "    <tr style=\"text-align: right;\">\n",
       "      <th></th>\n",
       "      <th>show_id</th>\n",
       "      <th>type</th>\n",
       "      <th>title</th>\n",
       "      <th>director</th>\n",
       "      <th>cast</th>\n",
       "      <th>country</th>\n",
       "      <th>date_added</th>\n",
       "      <th>release_year</th>\n",
       "      <th>rating</th>\n",
       "      <th>duration</th>\n",
       "      <th>listed_in</th>\n",
       "      <th>description</th>\n",
       "    </tr>\n",
       "  </thead>\n",
       "  <tbody>\n",
       "    <tr>\n",
       "      <th>8802</th>\n",
       "      <td>s8803</td>\n",
       "      <td>Movie</td>\n",
       "      <td>Zodiac</td>\n",
       "      <td>David Fincher</td>\n",
       "      <td>Mark Ruffalo, Jake Gyllenhaal, Robert Downey J...</td>\n",
       "      <td>United States</td>\n",
       "      <td>November 20, 2019</td>\n",
       "      <td>2007</td>\n",
       "      <td>R</td>\n",
       "      <td>158 min</td>\n",
       "      <td>Cult Movies, Dramas, Thrillers</td>\n",
       "      <td>A political cartoonist, a crime reporter and a...</td>\n",
       "    </tr>\n",
       "    <tr>\n",
       "      <th>8803</th>\n",
       "      <td>s8804</td>\n",
       "      <td>TV Show</td>\n",
       "      <td>Zombie Dumb</td>\n",
       "      <td>NaN</td>\n",
       "      <td>NaN</td>\n",
       "      <td>NaN</td>\n",
       "      <td>July 1, 2019</td>\n",
       "      <td>2018</td>\n",
       "      <td>TV-Y7</td>\n",
       "      <td>2 Seasons</td>\n",
       "      <td>Kids' TV, Korean TV Shows, TV Comedies</td>\n",
       "      <td>While living alone in a spooky town, a young g...</td>\n",
       "    </tr>\n",
       "    <tr>\n",
       "      <th>8804</th>\n",
       "      <td>s8805</td>\n",
       "      <td>Movie</td>\n",
       "      <td>Zombieland</td>\n",
       "      <td>Ruben Fleischer</td>\n",
       "      <td>Jesse Eisenberg, Woody Harrelson, Emma Stone, ...</td>\n",
       "      <td>United States</td>\n",
       "      <td>November 1, 2019</td>\n",
       "      <td>2009</td>\n",
       "      <td>R</td>\n",
       "      <td>88 min</td>\n",
       "      <td>Comedies, Horror Movies</td>\n",
       "      <td>Looking to survive in a world taken over by zo...</td>\n",
       "    </tr>\n",
       "    <tr>\n",
       "      <th>8805</th>\n",
       "      <td>s8806</td>\n",
       "      <td>Movie</td>\n",
       "      <td>Zoom</td>\n",
       "      <td>Peter Hewitt</td>\n",
       "      <td>Tim Allen, Courteney Cox, Chevy Chase, Kate Ma...</td>\n",
       "      <td>United States</td>\n",
       "      <td>January 11, 2020</td>\n",
       "      <td>2006</td>\n",
       "      <td>PG</td>\n",
       "      <td>88 min</td>\n",
       "      <td>Children &amp; Family Movies, Comedies</td>\n",
       "      <td>Dragged from civilian life, a former superhero...</td>\n",
       "    </tr>\n",
       "    <tr>\n",
       "      <th>8806</th>\n",
       "      <td>s8807</td>\n",
       "      <td>Movie</td>\n",
       "      <td>Zubaan</td>\n",
       "      <td>Mozez Singh</td>\n",
       "      <td>Vicky Kaushal, Sarah-Jane Dias, Raaghav Chanan...</td>\n",
       "      <td>India</td>\n",
       "      <td>March 2, 2019</td>\n",
       "      <td>2015</td>\n",
       "      <td>TV-14</td>\n",
       "      <td>111 min</td>\n",
       "      <td>Dramas, International Movies, Music &amp; Musicals</td>\n",
       "      <td>A scrappy but poor boy worms his way into a ty...</td>\n",
       "    </tr>\n",
       "  </tbody>\n",
       "</table>\n",
       "</div>"
      ],
      "text/plain": [
       "     show_id     type        title         director  \\\n",
       "8802   s8803    Movie       Zodiac    David Fincher   \n",
       "8803   s8804  TV Show  Zombie Dumb              NaN   \n",
       "8804   s8805    Movie   Zombieland  Ruben Fleischer   \n",
       "8805   s8806    Movie         Zoom     Peter Hewitt   \n",
       "8806   s8807    Movie       Zubaan      Mozez Singh   \n",
       "\n",
       "                                                   cast        country  \\\n",
       "8802  Mark Ruffalo, Jake Gyllenhaal, Robert Downey J...  United States   \n",
       "8803                                                NaN            NaN   \n",
       "8804  Jesse Eisenberg, Woody Harrelson, Emma Stone, ...  United States   \n",
       "8805  Tim Allen, Courteney Cox, Chevy Chase, Kate Ma...  United States   \n",
       "8806  Vicky Kaushal, Sarah-Jane Dias, Raaghav Chanan...          India   \n",
       "\n",
       "             date_added  release_year rating   duration  \\\n",
       "8802  November 20, 2019          2007      R    158 min   \n",
       "8803       July 1, 2019          2018  TV-Y7  2 Seasons   \n",
       "8804   November 1, 2019          2009      R     88 min   \n",
       "8805   January 11, 2020          2006     PG     88 min   \n",
       "8806      March 2, 2019          2015  TV-14    111 min   \n",
       "\n",
       "                                           listed_in  \\\n",
       "8802                  Cult Movies, Dramas, Thrillers   \n",
       "8803          Kids' TV, Korean TV Shows, TV Comedies   \n",
       "8804                         Comedies, Horror Movies   \n",
       "8805              Children & Family Movies, Comedies   \n",
       "8806  Dramas, International Movies, Music & Musicals   \n",
       "\n",
       "                                            description  \n",
       "8802  A political cartoonist, a crime reporter and a...  \n",
       "8803  While living alone in a spooky town, a young g...  \n",
       "8804  Looking to survive in a world taken over by zo...  \n",
       "8805  Dragged from civilian life, a former superhero...  \n",
       "8806  A scrappy but poor boy worms his way into a ty...  "
      ]
     },
     "execution_count": 3,
     "metadata": {},
     "output_type": "execute_result"
    }
   ],
   "source": [
    "df.tail() #give the bottom five rows of dataset"
   ]
  },
  {
   "cell_type": "code",
   "execution_count": 4,
   "id": "19f85732",
   "metadata": {},
   "outputs": [
    {
     "data": {
      "text/plain": [
       "(8807, 12)"
      ]
     },
     "execution_count": 4,
     "metadata": {},
     "output_type": "execute_result"
    }
   ],
   "source": [
    "df.shape #tells total no. of rows and columns"
   ]
  },
  {
   "cell_type": "code",
   "execution_count": 5,
   "id": "763c7ce3",
   "metadata": {},
   "outputs": [
    {
     "name": "stdout",
     "output_type": "stream",
     "text": [
      "<class 'pandas.core.frame.DataFrame'>\n",
      "RangeIndex: 8807 entries, 0 to 8806\n",
      "Data columns (total 12 columns):\n",
      " #   Column        Non-Null Count  Dtype \n",
      "---  ------        --------------  ----- \n",
      " 0   show_id       8807 non-null   object\n",
      " 1   type          8807 non-null   object\n",
      " 2   title         8807 non-null   object\n",
      " 3   director      6173 non-null   object\n",
      " 4   cast          7982 non-null   object\n",
      " 5   country       7976 non-null   object\n",
      " 6   date_added    8797 non-null   object\n",
      " 7   release_year  8807 non-null   int64 \n",
      " 8   rating        8803 non-null   object\n",
      " 9   duration      8804 non-null   object\n",
      " 10  listed_in     8807 non-null   object\n",
      " 11  description   8807 non-null   object\n",
      "dtypes: int64(1), object(11)\n",
      "memory usage: 825.8+ KB\n"
     ]
    }
   ],
   "source": [
    "df.info() # give total non null count values and data type of each table"
   ]
  },
  {
   "cell_type": "code",
   "execution_count": 6,
   "id": "224e08da",
   "metadata": {},
   "outputs": [
    {
     "data": {
      "text/html": [
       "<div>\n",
       "<style scoped>\n",
       "    .dataframe tbody tr th:only-of-type {\n",
       "        vertical-align: middle;\n",
       "    }\n",
       "\n",
       "    .dataframe tbody tr th {\n",
       "        vertical-align: top;\n",
       "    }\n",
       "\n",
       "    .dataframe thead th {\n",
       "        text-align: right;\n",
       "    }\n",
       "</style>\n",
       "<table border=\"1\" class=\"dataframe\">\n",
       "  <thead>\n",
       "    <tr style=\"text-align: right;\">\n",
       "      <th></th>\n",
       "      <th>release_year</th>\n",
       "    </tr>\n",
       "  </thead>\n",
       "  <tbody>\n",
       "    <tr>\n",
       "      <th>count</th>\n",
       "      <td>8807.000000</td>\n",
       "    </tr>\n",
       "    <tr>\n",
       "      <th>mean</th>\n",
       "      <td>2014.180198</td>\n",
       "    </tr>\n",
       "    <tr>\n",
       "      <th>std</th>\n",
       "      <td>8.819312</td>\n",
       "    </tr>\n",
       "    <tr>\n",
       "      <th>min</th>\n",
       "      <td>1925.000000</td>\n",
       "    </tr>\n",
       "    <tr>\n",
       "      <th>25%</th>\n",
       "      <td>2013.000000</td>\n",
       "    </tr>\n",
       "    <tr>\n",
       "      <th>50%</th>\n",
       "      <td>2017.000000</td>\n",
       "    </tr>\n",
       "    <tr>\n",
       "      <th>75%</th>\n",
       "      <td>2019.000000</td>\n",
       "    </tr>\n",
       "    <tr>\n",
       "      <th>max</th>\n",
       "      <td>2021.000000</td>\n",
       "    </tr>\n",
       "  </tbody>\n",
       "</table>\n",
       "</div>"
      ],
      "text/plain": [
       "       release_year\n",
       "count   8807.000000\n",
       "mean    2014.180198\n",
       "std        8.819312\n",
       "min     1925.000000\n",
       "25%     2013.000000\n",
       "50%     2017.000000\n",
       "75%     2019.000000\n",
       "max     2021.000000"
      ]
     },
     "execution_count": 6,
     "metadata": {},
     "output_type": "execute_result"
    }
   ],
   "source": [
    "df.describe() # give some stats of int column"
   ]
  },
  {
   "cell_type": "code",
   "execution_count": 7,
   "id": "23647065",
   "metadata": {},
   "outputs": [
    {
     "data": {
      "text/html": [
       "<div>\n",
       "<style scoped>\n",
       "    .dataframe tbody tr th:only-of-type {\n",
       "        vertical-align: middle;\n",
       "    }\n",
       "\n",
       "    .dataframe tbody tr th {\n",
       "        vertical-align: top;\n",
       "    }\n",
       "\n",
       "    .dataframe thead th {\n",
       "        text-align: right;\n",
       "    }\n",
       "</style>\n",
       "<table border=\"1\" class=\"dataframe\">\n",
       "  <thead>\n",
       "    <tr style=\"text-align: right;\">\n",
       "      <th></th>\n",
       "      <th>show_id</th>\n",
       "      <th>type</th>\n",
       "      <th>title</th>\n",
       "      <th>director</th>\n",
       "      <th>cast</th>\n",
       "      <th>country</th>\n",
       "      <th>date_added</th>\n",
       "      <th>rating</th>\n",
       "      <th>duration</th>\n",
       "      <th>listed_in</th>\n",
       "      <th>description</th>\n",
       "    </tr>\n",
       "  </thead>\n",
       "  <tbody>\n",
       "    <tr>\n",
       "      <th>count</th>\n",
       "      <td>8807</td>\n",
       "      <td>8807</td>\n",
       "      <td>8807</td>\n",
       "      <td>6173</td>\n",
       "      <td>7982</td>\n",
       "      <td>7976</td>\n",
       "      <td>8797</td>\n",
       "      <td>8803</td>\n",
       "      <td>8804</td>\n",
       "      <td>8807</td>\n",
       "      <td>8807</td>\n",
       "    </tr>\n",
       "    <tr>\n",
       "      <th>unique</th>\n",
       "      <td>8807</td>\n",
       "      <td>2</td>\n",
       "      <td>8807</td>\n",
       "      <td>4528</td>\n",
       "      <td>7692</td>\n",
       "      <td>748</td>\n",
       "      <td>1767</td>\n",
       "      <td>17</td>\n",
       "      <td>220</td>\n",
       "      <td>514</td>\n",
       "      <td>8775</td>\n",
       "    </tr>\n",
       "    <tr>\n",
       "      <th>top</th>\n",
       "      <td>s1</td>\n",
       "      <td>Movie</td>\n",
       "      <td>Dick Johnson Is Dead</td>\n",
       "      <td>Rajiv Chilaka</td>\n",
       "      <td>David Attenborough</td>\n",
       "      <td>United States</td>\n",
       "      <td>January 1, 2020</td>\n",
       "      <td>TV-MA</td>\n",
       "      <td>1 Season</td>\n",
       "      <td>Dramas, International Movies</td>\n",
       "      <td>Paranormal activity at a lush, abandoned prope...</td>\n",
       "    </tr>\n",
       "    <tr>\n",
       "      <th>freq</th>\n",
       "      <td>1</td>\n",
       "      <td>6131</td>\n",
       "      <td>1</td>\n",
       "      <td>19</td>\n",
       "      <td>19</td>\n",
       "      <td>2818</td>\n",
       "      <td>109</td>\n",
       "      <td>3207</td>\n",
       "      <td>1793</td>\n",
       "      <td>362</td>\n",
       "      <td>4</td>\n",
       "    </tr>\n",
       "  </tbody>\n",
       "</table>\n",
       "</div>"
      ],
      "text/plain": [
       "       show_id   type                 title       director  \\\n",
       "count     8807   8807                  8807           6173   \n",
       "unique    8807      2                  8807           4528   \n",
       "top         s1  Movie  Dick Johnson Is Dead  Rajiv Chilaka   \n",
       "freq         1   6131                     1             19   \n",
       "\n",
       "                      cast        country       date_added rating  duration  \\\n",
       "count                 7982           7976             8797   8803      8804   \n",
       "unique                7692            748             1767     17       220   \n",
       "top     David Attenborough  United States  January 1, 2020  TV-MA  1 Season   \n",
       "freq                    19           2818              109   3207      1793   \n",
       "\n",
       "                           listed_in  \\\n",
       "count                           8807   \n",
       "unique                           514   \n",
       "top     Dramas, International Movies   \n",
       "freq                             362   \n",
       "\n",
       "                                              description  \n",
       "count                                                8807  \n",
       "unique                                               8775  \n",
       "top     Paranormal activity at a lush, abandoned prope...  \n",
       "freq                                                    4  "
      ]
     },
     "execution_count": 7,
     "metadata": {},
     "output_type": "execute_result"
    }
   ],
   "source": [
    "df.describe(include=\"object\") #give some info of object columns"
   ]
  },
  {
   "cell_type": "code",
   "execution_count": 8,
   "id": "abde2acf",
   "metadata": {},
   "outputs": [
    {
     "data": {
      "text/html": [
       "<div>\n",
       "<style scoped>\n",
       "    .dataframe tbody tr th:only-of-type {\n",
       "        vertical-align: middle;\n",
       "    }\n",
       "\n",
       "    .dataframe tbody tr th {\n",
       "        vertical-align: top;\n",
       "    }\n",
       "\n",
       "    .dataframe thead th {\n",
       "        text-align: right;\n",
       "    }\n",
       "</style>\n",
       "<table border=\"1\" class=\"dataframe\">\n",
       "  <thead>\n",
       "    <tr style=\"text-align: right;\">\n",
       "      <th></th>\n",
       "      <th>show_id</th>\n",
       "      <th>type</th>\n",
       "      <th>title</th>\n",
       "      <th>director</th>\n",
       "      <th>cast</th>\n",
       "      <th>country</th>\n",
       "      <th>date_added</th>\n",
       "      <th>release_year</th>\n",
       "      <th>rating</th>\n",
       "      <th>duration</th>\n",
       "      <th>listed_in</th>\n",
       "      <th>description</th>\n",
       "    </tr>\n",
       "  </thead>\n",
       "  <tbody>\n",
       "  </tbody>\n",
       "</table>\n",
       "</div>"
      ],
      "text/plain": [
       "Empty DataFrame\n",
       "Columns: [show_id, type, title, director, cast, country, date_added, release_year, rating, duration, listed_in, description]\n",
       "Index: []"
      ]
     },
     "execution_count": 8,
     "metadata": {},
     "output_type": "execute_result"
    }
   ],
   "source": [
    "df[df.duplicated()] # not a single repeated entry"
   ]
  },
  {
   "cell_type": "markdown",
   "id": "6df3f915",
   "metadata": {},
   "source": [
    "# 2nd Step - Cleaning dataset"
   ]
  },
  {
   "cell_type": "code",
   "execution_count": 9,
   "id": "b23c9c2a",
   "metadata": {},
   "outputs": [],
   "source": [
    "# After exploring datset it's found that our datset has 3 major problems which should be consider in cleanig process\n",
    "\n",
    "# 1.changing date_added dtype to datetime dtype\n",
    "# 2.Splitting duration column into duration_num and duration_value with changing dtype \n",
    "# 3.replacing missing values with some values like mean,mode or some interpolation technique if needed or unavaialable  \n",
    "\n",
    "df_clean = df.copy()  \n",
    "# we are copying our datframe to new dataframe so we compare dataset before cleaning and after cleaning  and \n",
    "# also check our upper codes and their analysis if we change this dataframe then it make change it upper code outputs\n"
   ]
  },
  {
   "cell_type": "code",
   "execution_count": 10,
   "id": "4596f3f0",
   "metadata": {},
   "outputs": [],
   "source": [
    "# Converting date_added col  to datetime dtype \n",
    "df_clean[\"date_added\"] = pd.to_datetime(df_clean[\"date_added\"], errors=\"coerce\")\n",
    "\n",
    "# Spliting duration into 'duration_num', 'duration_type'\n",
    "df_clean[['duration_num', 'duration_type']] = df_clean['duration'].str.extract(r'(\\d+)\\s*(\\w+)')\n",
    "\n",
    "# Converting duration_num  to numeric (int64)\n",
    "df_clean['duration_num'] = pd.to_numeric(df_clean['duration_num'], errors='coerce')\n",
    "\n",
    "# Moving duration_num,duration_type just after duration\n",
    "pos = df_clean.columns.get_loc(\"duration\")\n",
    "col1 = df_clean.pop(\"duration_num\")  \n",
    "col2 = df_clean.pop(\"duration_type\")\n",
    "\n",
    "df_clean.insert(pos + 1, \"duration_num\", col1)  \n",
    "df_clean.insert(pos + 2, \"duration_type\", col2)\n"
   ]
  },
  {
   "cell_type": "code",
   "execution_count": 11,
   "id": "efa2a919",
   "metadata": {},
   "outputs": [],
   "source": [
    "# Droping the original 'duration' column since it's no longer needed\n",
    "df_clean.drop(\"duration\", axis=1, inplace=True)"
   ]
  },
  {
   "cell_type": "code",
   "execution_count": 12,
   "id": "ed3b04d9",
   "metadata": {},
   "outputs": [],
   "source": [
    "# since director,cast and country has many null values so we replace it with \"unavaiable\" text\n",
    "cols_to_fill = ['cast', 'country', 'director']\n",
    "\n",
    "for col in cols_to_fill:\n",
    "    df_clean[col] = df_clean[col].fillna(\"Unknown\") \n",
    "\n",
    "# since rating,duration_num,duration_type,date_added has very less null values so we replace it with their mean(average) and mode(top occuring values)\n",
    "\n",
    "# Fill with mode (top occurring value)\n",
    "df_clean['rating'] = df_clean['rating'].fillna(df_clean['rating'].mode()[0])\n",
    "df_clean['duration_type'] = df_clean['duration_type'].fillna(df_clean['duration_type'].mode()[0])\n",
    "df_clean['date_added'] = df_clean['date_added'].fillna(df_clean['date_added'].mode()[0])\n",
    "\n",
    "# Fill with mean\n",
    "df_clean['duration_num'] = df_clean['duration_num'].fillna(df_clean['duration_num'].mean())\n",
    "\n",
    "# Convert all object (string) columns to lowercase and strip spaces\n",
    "for col in df_clean.select_dtypes(include='object').columns:\n",
    "    df_clean[col] = df_clean[col].str.lower().str.strip()\n"
   ]
  },
  {
   "cell_type": "markdown",
   "id": "23b825a2",
   "metadata": {},
   "source": [
    "# Verifying changes"
   ]
  },
  {
   "cell_type": "code",
   "execution_count": 13,
   "id": "7cdf527a",
   "metadata": {},
   "outputs": [
    {
     "data": {
      "text/html": [
       "<div>\n",
       "<style scoped>\n",
       "    .dataframe tbody tr th:only-of-type {\n",
       "        vertical-align: middle;\n",
       "    }\n",
       "\n",
       "    .dataframe tbody tr th {\n",
       "        vertical-align: top;\n",
       "    }\n",
       "\n",
       "    .dataframe thead th {\n",
       "        text-align: right;\n",
       "    }\n",
       "</style>\n",
       "<table border=\"1\" class=\"dataframe\">\n",
       "  <thead>\n",
       "    <tr style=\"text-align: right;\">\n",
       "      <th></th>\n",
       "      <th>show_id</th>\n",
       "      <th>type</th>\n",
       "      <th>title</th>\n",
       "      <th>director</th>\n",
       "      <th>cast</th>\n",
       "      <th>country</th>\n",
       "      <th>date_added</th>\n",
       "      <th>release_year</th>\n",
       "      <th>rating</th>\n",
       "      <th>duration_num</th>\n",
       "      <th>duration_type</th>\n",
       "      <th>listed_in</th>\n",
       "      <th>description</th>\n",
       "    </tr>\n",
       "  </thead>\n",
       "  <tbody>\n",
       "    <tr>\n",
       "      <th>0</th>\n",
       "      <td>s1</td>\n",
       "      <td>movie</td>\n",
       "      <td>dick johnson is dead</td>\n",
       "      <td>kirsten johnson</td>\n",
       "      <td>unknown</td>\n",
       "      <td>united states</td>\n",
       "      <td>2021-09-25</td>\n",
       "      <td>2020</td>\n",
       "      <td>pg-13</td>\n",
       "      <td>90.0</td>\n",
       "      <td>min</td>\n",
       "      <td>documentaries</td>\n",
       "      <td>as her father nears the end of his life, filmm...</td>\n",
       "    </tr>\n",
       "  </tbody>\n",
       "</table>\n",
       "</div>"
      ],
      "text/plain": [
       "  show_id   type                 title         director     cast  \\\n",
       "0      s1  movie  dick johnson is dead  kirsten johnson  unknown   \n",
       "\n",
       "         country date_added  release_year rating  duration_num duration_type  \\\n",
       "0  united states 2021-09-25          2020  pg-13          90.0           min   \n",
       "\n",
       "       listed_in                                        description  \n",
       "0  documentaries  as her father nears the end of his life, filmm...  "
      ]
     },
     "execution_count": 13,
     "metadata": {},
     "output_type": "execute_result"
    }
   ],
   "source": [
    "df_clean.head(1)"
   ]
  },
  {
   "cell_type": "code",
   "execution_count": 14,
   "id": "05f14a01",
   "metadata": {},
   "outputs": [
    {
     "data": {
      "text/plain": [
       "show_id                  object\n",
       "type                     object\n",
       "title                    object\n",
       "director                 object\n",
       "cast                     object\n",
       "country                  object\n",
       "date_added       datetime64[ns]\n",
       "release_year              int64\n",
       "rating                   object\n",
       "duration_num            float64\n",
       "duration_type            object\n",
       "listed_in                object\n",
       "description              object\n",
       "dtype: object"
      ]
     },
     "execution_count": 14,
     "metadata": {},
     "output_type": "execute_result"
    }
   ],
   "source": [
    "df_clean.dtypes"
   ]
  },
  {
   "cell_type": "code",
   "execution_count": 15,
   "id": "5cafc773",
   "metadata": {},
   "outputs": [
    {
     "data": {
      "text/plain": [
       "show_id          0\n",
       "type             0\n",
       "title            0\n",
       "director         0\n",
       "cast             0\n",
       "country          0\n",
       "date_added       0\n",
       "release_year     0\n",
       "rating           0\n",
       "duration_num     0\n",
       "duration_type    0\n",
       "listed_in        0\n",
       "description      0\n",
       "dtype: int64"
      ]
     },
     "execution_count": 15,
     "metadata": {},
     "output_type": "execute_result"
    }
   ],
   "source": [
    "df_clean.isnull().sum()"
   ]
  },
  {
   "cell_type": "markdown",
   "id": "2377960f",
   "metadata": {},
   "source": [
    "Now, We will download clean dataset"
   ]
  },
  {
   "cell_type": "code",
   "execution_count": 16,
   "id": "940f9edc",
   "metadata": {},
   "outputs": [],
   "source": [
    "df_clean.to_csv(\"netflix_cleaned_dataset.csv\",index=False)"
   ]
  },
  {
   "cell_type": "markdown",
   "id": "e5cfdbdd",
   "metadata": {},
   "source": [
    "# 3rd Step - Analysis"
   ]
  },
  {
   "cell_type": "code",
   "execution_count": 16,
   "id": "d153d07e",
   "metadata": {},
   "outputs": [
    {
     "name": "stdout",
     "output_type": "stream",
     "text": [
      "  Category  Count            Analysis\n",
      "0    movie   6131  Movies vs TV Shows\n",
      "1  tv show   2676  Movies vs TV Shows\n"
     ]
    }
   ],
   "source": [
    "# Finding total number of shows and movies\n",
    "movies_vs_shows = df_clean[\"type\"].value_counts().reset_index()\n",
    "movies_vs_shows.columns = [\"Category\", \"Count\"]\n",
    "movies_vs_shows[\"Analysis\"] = \"Movies vs TV Shows\"\n",
    "print(movies_vs_shows)"
   ]
  },
  {
   "cell_type": "code",
   "execution_count": 17,
   "id": "ce14720a",
   "metadata": {},
   "outputs": [
    {
     "name": "stdout",
     "output_type": "stream",
     "text": [
      "        Category  Count         Analysis\n",
      "0  united states   3690  Top 2 Countries\n",
      "1          india   1046  Top 2 Countries\n",
      "       Category  Count            Analysis\n",
      "0  east germany      1  Bottom 2 Countries\n",
      "1    montenegro      1  Bottom 2 Countries\n"
     ]
    }
   ],
   "source": [
    "# Splitting and exploding countries to count as seperate value even together in a single row\n",
    "countries_exploded = df_clean['country'].str.split(',').explode().str.strip()\n",
    "\n",
    "# Top 2 Countries with most content production\n",
    "Top_countries = countries_exploded[countries_exploded != \"unavailable\"].value_counts().head(2).reset_index()\n",
    "\n",
    "Top_countries.columns = ['Category', 'Count']\n",
    "Top_countries['Analysis'] = 'Top 2 Countries'\n",
    "print(Top_countries)\n",
    "\n",
    "\n",
    "# Bottom 2 Countries with most content production\n",
    "bottom_countries = countries_exploded[countries_exploded != \"unavailable\"].value_counts().tail(2).reset_index()\n",
    "\n",
    "bottom_countries.columns = ['Category', 'Count']\n",
    "bottom_countries['Analysis'] = 'Bottom 2 Countries'\n",
    "print(bottom_countries)"
   ]
  },
  {
   "cell_type": "code",
   "execution_count": 18,
   "id": "21382f07",
   "metadata": {},
   "outputs": [
    {
     "name": "stdout",
     "output_type": "stream",
     "text": [
      "   Category  Count                          Analysis\n",
      "0      2018   1147  Top 3 most content produced year\n",
      "1      2017   1032  Top 3 most content produced year\n",
      "2      2019   1030  Top 3 most content produced year\n",
      "   Category  Count                             Analysis\n",
      "0      1959      1  Bottom 3 most content produced year\n",
      "1      1966      1  Bottom 3 most content produced year\n",
      "2      1947      1  Bottom 3 most content produced year\n"
     ]
    }
   ],
   "source": [
    "\n",
    "# Top 3 most content produced year\n",
    "Top_content_trend = df_clean['release_year'].value_counts().head(3).reset_index()\n",
    "Top_content_trend.columns = ['Category', 'Count']\n",
    "Top_content_trend['Analysis'] = 'Top 3 most content produced year'\n",
    "print(Top_content_trend)\n",
    "\n",
    "# bottom 3 most content produced year\n",
    "Bottom_content_trend = df_clean['release_year'].value_counts().tail(3).reset_index()\n",
    "Bottom_content_trend.columns = ['Category', 'Count']\n",
    "Bottom_content_trend['Analysis'] = 'Bottom 3 most content produced year'\n",
    "print(Bottom_content_trend)"
   ]
  },
  {
   "cell_type": "code",
   "execution_count": 19,
   "id": "3e6f1fe0",
   "metadata": {},
   "outputs": [
    {
     "name": "stdout",
     "output_type": "stream",
     "text": [
      "        Category  Count         Analysis\n",
      "0  rajiv chilaka     22  Top 2 Directors\n",
      "1      jan suter     21  Top 2 Directors\n"
     ]
    }
   ],
   "source": [
    "# Splitting and exploding directors to count as seperate  even work  together in a single content\n",
    "directors_exploded = df_clean['director'].str.split(', ').explode()\n",
    "\n",
    "# Top 2 Directors\n",
    "top_directors = directors_exploded[directors_exploded != \"unknown\"].value_counts().head(2).reset_index()\n",
    "\n",
    "top_directors.columns = ['Category', 'Count']\n",
    "top_directors['Analysis'] = 'Top 2 Directors'\n",
    "\n",
    "print(top_directors)"
   ]
  },
  {
   "cell_type": "code",
   "execution_count": 20,
   "id": "acf6cf65",
   "metadata": {},
   "outputs": [
    {
     "name": "stdout",
     "output_type": "stream",
     "text": [
      "               Category  Count      Analysis\n",
      "0  international movies   2752  Top 2 genres\n",
      "1                dramas   2427  Top 2 genres\n",
      "            Category  Count         Analysis\n",
      "0  classic & cult tv     28  Bottom 2 genres\n",
      "1           tv shows     16  Bottom 2 genres\n"
     ]
    }
   ],
   "source": [
    "# Splitting and exploding genres to count as seperate single value even if together in a single row\n",
    "genres_exploded = df_clean['listed_in'].str.split(', ').explode()\n",
    "\n",
    "# Top 2 Genres\n",
    "top_genres = genres_exploded[genres_exploded != \"unknown\"].value_counts().head(2).reset_index()\n",
    "\n",
    "top_genres.columns = ['Category', 'Count']\n",
    "top_genres['Analysis'] = 'Top 2 genres'\n",
    "print(top_genres)\n",
    "\n",
    "# Bottom 2 Genres\n",
    "Bottom_genres = genres_exploded[genres_exploded != \"unknown\"].value_counts().tail(2).reset_index()\n",
    "\n",
    "Bottom_genres.columns = ['Category', 'Count']\n",
    "Bottom_genres['Analysis'] = 'Bottom 2 genres'\n",
    "print(Bottom_genres)\n"
   ]
  },
  {
   "cell_type": "code",
   "execution_count": 22,
   "id": "1071e1b8",
   "metadata": {},
   "outputs": [
    {
     "name": "stdout",
     "output_type": "stream",
     "text": [
      "  Category        Count                         Analysis\n",
      "0    count  8807.000000  stats collected by release year\n",
      "1     mean  2014.180198  stats collected by release year\n",
      "2      std     8.819312  stats collected by release year\n",
      "3      min  1925.000000  stats collected by release year\n",
      "4      25%  2013.000000  stats collected by release year\n",
      "5      50%  2017.000000  stats collected by release year\n",
      "6      75%  2019.000000  stats collected by release year\n",
      "7      max  2021.000000  stats collected by release year\n"
     ]
    }
   ],
   "source": [
    "describe_stats = df_clean['release_year'].describe().reset_index()\n",
    "describe_stats.columns = ['Category', 'Count'] \n",
    "describe_stats['Analysis'] = 'stats collected by release year'\n",
    "print(describe_stats)"
   ]
  },
  {
   "cell_type": "markdown",
   "id": "01672ead",
   "metadata": {},
   "source": [
    "Concating all dataframe of analysis and saving it in seperate file"
   ]
  },
  {
   "cell_type": "code",
   "execution_count": 26,
   "id": "df5ede5e",
   "metadata": {},
   "outputs": [
    {
     "name": "stdout",
     "output_type": "stream",
     "text": [
      "         Category        Count                             Analysis\n",
      "0           movie  6131.000000                   Movies vs TV Shows\n",
      "1         tv show  2676.000000                   Movies vs TV Shows\n",
      "2   united states  3690.000000                      Top 2 Countries\n",
      "3           india  1046.000000                      Top 2 Countries\n",
      "4    east germany     1.000000                   Bottom 2 Countries\n",
      "5      montenegro     1.000000                   Bottom 2 Countries\n",
      "6            2018  1147.000000     Top 3 most content produced year\n",
      "7            2017  1032.000000     Top 3 most content produced year\n",
      "8            2019  1030.000000     Top 3 most content produced year\n",
      "9            1959     1.000000  Bottom 3 most content produced year\n",
      "10           1966     1.000000  Bottom 3 most content produced year\n",
      "11           1947     1.000000  Bottom 3 most content produced year\n",
      "12          count  8807.000000      stats collected by release year\n",
      "13           mean  2014.180198      stats collected by release year\n",
      "14            std     8.819312      stats collected by release year\n",
      "15            min  1925.000000      stats collected by release year\n",
      "16            25%  2013.000000      stats collected by release year\n",
      "17            50%  2017.000000      stats collected by release year\n",
      "18            75%  2019.000000      stats collected by release year\n",
      "19            max  2021.000000      stats collected by release year\n"
     ]
    }
   ],
   "source": [
    "final_analysis = pd.concat([movies_vs_shows,Top_countries,bottom_countries,Top_content_trend,Bottom_content_trend,describe_stats],ignore_index=True)\n",
    "\n",
    "final_analysis.to_csv(\"netflix_analysis_csv_file.csv\", index=False)\n",
    "print(final_analysis)"
   ]
  },
  {
   "cell_type": "markdown",
   "id": "bd139b2f",
   "metadata": {},
   "source": [
    "# 📊 Final Insights from Netflix Dataset Analysis\n",
    "\n",
    "After cleaning, transforming, and exploring the dataset, here are the key takeaways:\n",
    "\n",
    "1. **Movies vs TV Shows**\n",
    "   - Movies dominate the dataset with **6,131 entries**, while TV Shows account for **2,676**.\n",
    "   - This indicates Netflix has historically focused more on movies than series.\n",
    "\n",
    "2. **Content Production by Country**\n",
    "   - **United States (3,690)** and **India (1,046)** are the top two content producers.\n",
    "   - Some countries like **East Germany** and **Montenegro** have contributed only **1 show each**, highlighting limited global representation.\n",
    "\n",
    "3. **Release Year Trends**\n",
    "   - Peak production years were **2018 (1,147 titles)**, **2017 (1,032 titles)**, and **2019 (1,030 titles)**.\n",
    "   - Earliest content dates back to **1925**, while the latest is from **2021**.\n",
    "   - Very low production was observed in years like **1947, 1959, and 1966**.\n",
    "\n",
    "4. **Statistical Summary of Release Year**\n",
    "   - Average release year ≈ **2014**.\n",
    "   - Standard deviation (std) ≈ **8.2**, meaning ~68% of titles are from **2006–2022**.\n",
    "   - 25% of content released before **2013**, 50% before **2017**, and 75% before **2019**.\n",
    "   - Confirms Netflix’s aggressive content growth after **2013**.\n",
    "\n",
    "---\n",
    "\n",
    "# 🚀 Key Insights\n",
    "\n",
    "- Netflix’s library is **movie-heavy** compared to TV shows.  \n",
    "- The **US and India** dominate the content landscape.  \n",
    "- The **2017–2019 period** marked the golden era of Netflix content production.  \n",
    "- The dataset shows a **rapid acceleration post-2013**, matching Netflix’s global expansion.  \n",
    "- Some countries have very **minimal contributions**, suggesting opportunities for more localized content.\n",
    "\n",
    "---\n"
   ]
  }
 ],
 "metadata": {
  "kernelspec": {
   "display_name": "Python 3",
   "language": "python",
   "name": "python3"
  },
  "language_info": {
   "codemirror_mode": {
    "name": "ipython",
    "version": 3
   },
   "file_extension": ".py",
   "mimetype": "text/x-python",
   "name": "python",
   "nbconvert_exporter": "python",
   "pygments_lexer": "ipython3",
   "version": "3.13.0"
  }
 },
 "nbformat": 4,
 "nbformat_minor": 5
}
